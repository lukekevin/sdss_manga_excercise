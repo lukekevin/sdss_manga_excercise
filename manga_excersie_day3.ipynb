{
 "cells": [
  {
   "cell_type": "code",
   "execution_count": 1,
   "id": "d9ecdb7f-bab0-498e-98c8-8695c47e1fa4",
   "metadata": {},
   "outputs": [
    {
     "name": "stderr",
     "output_type": "stream",
     "text": [
      "\u001b[0;34m[INFO]: \u001b[0mNo release version set. Setting default to DR17\n",
      "\u001b[1;33m[WARNING]: \u001b[0m/home/kevin/miniconda3/envs/pywork/lib/python3.12/site-packages/marvin/__init__.py:387: MarvinUserWarning: path /home/kevin/sas/dr17/manga/spectro/redux/v3_1_1/drpall-v3_1_1.fits cannot be found. Setting drpall to None.\n",
      "  warnings.warn('path {0} cannot be found. Setting drpall to None.'\n",
      "\n",
      "\u001b[1;33m[WARNING]: \u001b[0m/home/kevin/miniconda3/envs/pywork/lib/python3.12/site-packages/marvin/__init__.py:400: MarvinUserWarning: path /home/kevin/sas/dr17/manga/spectro/analysis/v3_1_1/3.1.0/dapall-v3_1_1-3.1.0.fits cannot be found. Setting dapall to None.\n",
      "  warnings.warn('path {0} cannot be found. Setting dapall to None.'\n",
      "\n",
      "\u001b[1;33m[WARNING]: \u001b[0m/home/kevin/miniconda3/envs/pywork/lib/python3.12/site-packages/marvin/tools/mixins/aperture.py:26: DeprecationWarning: `photutils.Aperture` is a deprecated alias for `photutils.aperture.Aperture` and will be removed in the future. Instead, please use `from photutils.aperture import Aperture` to silence this warning.\n",
      "  class MarvinAperture(photutils.Aperture if photutils else object):\n",
      "\n"
     ]
    }
   ],
   "source": [
    "import marvin\n",
    "import numpy as np\n",
    "import matplotlib.pyplot as plt"
   ]
  },
  {
   "cell_type": "code",
   "execution_count": 2,
   "id": "b5f3be87-7f82-410d-b50f-30ab150101fb",
   "metadata": {},
   "outputs": [],
   "source": [
    "#Load the data cube of flux and get maps for different quantities\n",
    "cube_data= marvin.tools.Cube(filename='manga-8319-9101-LOGCUBE.fits.gz')\n",
    "map_cube=cube_data.getMaps()"
   ]
  },
  {
   "cell_type": "code",
   "execution_count": 3,
   "id": "532407c1-1cac-4e84-84c1-77922739ad89",
   "metadata": {},
   "outputs": [],
   "source": [
    "#Fetch map for Halpha line\n",
    "ha_line_map= map_cube.emline_gflux_ha_6564.value"
   ]
  },
  {
   "cell_type": "code",
   "execution_count": 4,
   "id": "b5b35fc3-f6e5-41e3-81ec-81250a87d8f8",
   "metadata": {},
   "outputs": [
    {
     "data": {
      "text/plain": [
       "<matplotlib.image.AxesImage at 0x75cd4dcbf920>"
      ]
     },
     "execution_count": 4,
     "metadata": {},
     "output_type": "execute_result"
    },
    {
     "data": {
      "image/png": "[encoded data removed]",
      "text/plain": [
       "<Figure size 640x480 with 1 Axes>"
      ]
     },
     "metadata": {},
     "output_type": "display_data"
    }
   ],
   "source": [
    "plt.imshow(ha_line_map,vmax=10 , vmin=4)"
   ]
  },
  {
   "cell_type": "code",
   "execution_count": null,
   "id": "89e36c8a-647b-4b4f-907c-4efeb16ea023",
   "metadata": {},
   "outputs": [],
   "source": []
  }
 ],
 "metadata": {
  "kernelspec": {
   "display_name": "Python 3 (ipykernel)",
   "language": "python",
   "name": "python3"
  },
  "language_info": {
   "codemirror_mode": {
    "name": "ipython",
    "version": 3
   },
   "file_extension": ".py",
   "mimetype": "text/x-python",
   "name": "python",
   "nbconvert_exporter": "python",
   "pygments_lexer": "ipython3",
   "version": "3.12.3"
  }
 },
 "nbformat": 4,
 "nbformat_minor": 5
}
